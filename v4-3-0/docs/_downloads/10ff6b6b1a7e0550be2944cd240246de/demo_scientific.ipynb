{
  "cells": [
    {
      "cell_type": "markdown",
      "metadata": {},
      "source": [
        "# Science Plots\n\nThis [matplotlib](https://matplotlib.org/) style [Science Plots](https://github.com/garrettj403/SciencePlots) is focused to generate figures using common scientific journal styles such as IEEE.\nThe figures are suitable to print in colored are back and white. In addition to [matplotlib](https://matplotlib.org/), the style must be installed.\n\n..  code-block:: bat\n\n    pip install SciencePlots\n"
      ]
    },
    {
      "cell_type": "markdown",
      "metadata": {},
      "source": [
        "Import namespaces.\n\n"
      ]
    },
    {
      "cell_type": "code",
      "execution_count": null,
      "metadata": {
        "collapsed": false
      },
      "outputs": [],
      "source": [
        "import numpy as np\nimport matplotlib.pyplot as plt\nimport scienceplots"
      ]
    },
    {
      "cell_type": "markdown",
      "metadata": {},
      "source": [
        "Generate demo x and y values.\n\n"
      ]
    },
    {
      "cell_type": "code",
      "execution_count": null,
      "metadata": {
        "collapsed": false
      },
      "outputs": [],
      "source": [
        "x = np.linspace(0, 10, 20)\ny = np.sin(x)\ny2 = np.cos(x)"
      ]
    },
    {
      "cell_type": "markdown",
      "metadata": {},
      "source": [
        "Change matplotlib.pyplot style and plot data.\n\n"
      ]
    },
    {
      "cell_type": "code",
      "execution_count": null,
      "metadata": {
        "collapsed": false
      },
      "outputs": [],
      "source": [
        "with plt.style.context([\"science\", \"no-latex\"]):\n    plt.figure(figsize=(6, 6))\n    plt.plot(x, y, marker=\"o\", label=\"Line 1\")\n    plt.plot(x, y2, marker=\"x\", label=\"Line 2\")\n\n    plt.xlabel(\"X\")\n    plt.ylabel(\"Y\")\n    plt.legend()\n    plt.grid()\n    plt.show()"
      ]
    }
  ],
  "metadata": {
    "kernelspec": {
      "display_name": "Python 3",
      "language": "python",
      "name": "python3"
    },
    "language_info": {
      "codemirror_mode": {
        "name": "ipython",
        "version": 3
      },
      "file_extension": ".py",
      "mimetype": "text/x-python",
      "name": "python",
      "nbconvert_exporter": "python",
      "pygments_lexer": "ipython3",
      "version": "3.12.4"
    }
  },
  "nbformat": 4,
  "nbformat_minor": 0
}
