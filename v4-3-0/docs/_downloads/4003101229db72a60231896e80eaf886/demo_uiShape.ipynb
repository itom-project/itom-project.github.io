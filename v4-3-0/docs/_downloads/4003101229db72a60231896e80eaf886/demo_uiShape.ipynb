{
  "cells": [
    {
      "cell_type": "markdown",
      "metadata": {},
      "source": [
        "# UI shape\n\nThis demo shows a window with a 2D plot as center widget.\nA random dataObject is shown in the plot. The user can then\ncreate various geometric shapes (like points, lines, rectangles...)\nin the plot either by the toolbar of the plot or by pressing dedicated buttons.\n\nAdditionally, many signals of the plot are connected to python slots\nto show what kind of information can for instance be obtained by the plot\nupon the creation of plots. There are still more signals available, however this\ndemo shows a base set already. Furthermore, it is possible to force the user to\ncreate new shapes either in a modal or non-modal process. The first might be\ninteresting if a script requires the input of a region in a plot before continuing with\nthe script execution\n"
      ]
    },
    {
      "cell_type": "code",
      "execution_count": null,
      "metadata": {
        "collapsed": false
      },
      "outputs": [],
      "source": [
        "from itom import dataObject\nfrom itom import ui\nfrom itomUi import ItomUi\nfrom itom import shape\nimport inspect\nimport os.path\n\n\n\nclass UiShapeDemo(ItomUi):\n    def __init__(self):\n        ownFilename = inspect.getfile(inspect.currentframe())\n        ownDir = os.path.dirname(ownFilename)\n        uiFile = os.path.join(ownDir, \"uiShapeDemo.ui\")\n        uiFile = os.path.abspath(uiFile)\n        ItomUi.__init__(self, uiFile, ui.TYPEWINDOW, childOfMainWindow=True)\n\n        dObj = dataObject.randN([100, 300], \"uint8\")\n        dObj.axisScales = (0.2, 0.2)\n        dObj.axisUnits = (\"mm\", \"mm\")\n        self.gui.plot[\"source\"] = dObj\n\n    def show(self, modalLevel=0):\n        self.gui.show(modalLevel)\n\n    def drawShapeButtonsEnable(self, enabled, modal=False):\n        self.gui.btnCancel[\"enabled\"] = not enabled and not modal\n        self.gui.btnAddPoint[\"enabled\"] = enabled\n        self.gui.btnAddLine[\"enabled\"] = enabled\n        self.gui.btnAddRect[\"enabled\"] = enabled\n        self.gui.btnAddSquare[\"enabled\"] = enabled\n        self.gui.btnAddEllipse[\"enabled\"] = enabled\n        self.gui.btnAddCircle[\"enabled\"] = enabled\n\n    def startInteraction(self, type):\n        nrOfElements = self.gui.spinNoToAdd[\"value\"]\n        modal = self.gui.checkModalInput[\"checked\"]\n        self.drawShapeButtonsEnable(False, modal)\n\n        if not modal:\n            self.gui.plot.call(\"userInteractionStart\", type, True, nrOfElements)\n        else:\n            try:\n                # drawAndPickElements throws RuntimeError if user interrupts the process to add a new shape or new shapes\n                # drawAndPickElements is a member of itom.plotItem, self.gui.plot however is of its base type uiItem.\n                # Therefore, the uiItem is cast to plotItem, first.\n                shapes = plotItem(self.gui.plot).drawAndPickElements(type, nrOfElements)\n                self.gui.listLog.call(\n                    \"addItem\",\n                    \"End of modal interaction. %i shapes added:\" % len(shapes),\n                )\n            except RuntimeError:\n                self.gui.listLog.call(\"addItem\", \"Modal interaction interrupted\")\n\n    @ItomUi.autoslot(\"\")\n    def on_btnAddPoint_clicked(self):\n        self.startInteraction(shape.Point)\n\n    @ItomUi.autoslot(\"\")\n    def on_btnAddLine_clicked(self):\n        self.startInteraction(shape.Line)\n\n    @ItomUi.autoslot(\"\")\n    def on_btnAddRect_clicked(self):\n        self.startInteraction(shape.Rectangle)\n\n    @ItomUi.autoslot(\"\")\n    def on_btnAddSquare_clicked(self):\n        self.startInteraction(shape.Square)\n\n    @ItomUi.autoslot(\"\")\n    def on_btnAddEllipse_clicked(self):\n        self.startInteraction(shape.Ellipse)\n\n    @ItomUi.autoslot(\"\")\n    def on_btnAddCircle_clicked(self):\n        self.startInteraction(shape.Circle)\n\n    @ItomUi.autoslot(\"bool\")\n    def on_checkAllowToolbar_clicked(self, checked):\n        self.gui.plot[\"geometricShapesDrawingEnabled\"] = checked\n\n    @ItomUi.autoslot(\"bool\")\n    def on_checkAllowMove_clicked(self, checked):\n        modes = []\n        flags = 0\n        if self.gui.checkAllowMove[\"checked\"]:\n            modes.append(\"Move\")\n        else:\n            flags |= shape.MoveLock\n        if self.gui.checkAllowResize[\"checked\"]:\n            modes.append(\"Resize\")\n        else:\n            flags |= shape.ResizeLock\n\n        if len(modes) > 0:\n            self.gui.plot[\"geometryModificationModes\"] = \";\".join(modes)\n        else:\n            self.gui.plot[\"geometryModificationModes\"] = \"\"\n\n    @ItomUi.autoslot(\"bool\")\n    def on_checkAllowResize_clicked(self, checked):\n        self.on_checkAllowMove_clicked(checked)\n\n    @ItomUi.autoslot(\"\")\n    def on_btnCreateAndShowMask_clicked(self):\n        mask = self.gui.plot[\"source\"].createMask(self.gui.plot[\"geometricShapes\"])\n        plot(mask)\n\n    @ItomUi.autoslot(\"\")\n    def on_btnClearAll_clicked(self):\n        self.gui.plot.call(\"clearGeometricShapes\")\n\n    @ItomUi.autoslot(\"\")\n    def on_btnClearSelected_clicked(self):\n        self.gui.plot.call(\n            \"deleteGeometricShape\", self.gui.plot[\"selectedGeometricShape\"]\n        )\n\n    @ItomUi.autoslot(\"\")\n    def on_btnDrawShapes_clicked(self):\n        self.gui.plot.call(\n            \"addGeometricShape\", shape(shape.Circle, (30, 10), 8)\n        )  # head\n        self.gui.plot.call(\n            \"addGeometricShape\", shape(shape.Rectangle, (24, 15), (28, 12))\n        )  # left eye\n        self.gui.plot.call(\n            \"addGeometricShape\", shape(shape.Rectangle, (32, 15), (36, 12))\n        )  # right eye\n        self.gui.plot.call(\n            \"addGeometricShape\", shape(shape.Ellipse, (25, 5.25), (35, 4.75))\n        )  # mouth\n\n    @ItomUi.autoslot(\"\")\n    def on_plot_geometricShapesDeleted(self):\n        self.gui.btnCreateAndShowMask[\"enabled\"] = False\n        self.gui.btnClearAll[\"enabled\"] = False\n        self.gui.listLog.call(\"addItem\", \"all shapes deleted\")\n\n    @ItomUi.autoslot(\"int,ito::Shape\")\n    def on_plot_geometricShapeAdded(self, idx, shape):\n        self.gui.btnCreateAndShowMask[\"enabled\"] = True\n        self.gui.btnClearAll[\"enabled\"] = True\n        self.gui.listLog.call(\"addItem\", \"shape %i added: \" % idx + str(shape))\n\n    @ItomUi.autoslot(\"int,ito::Shape\")\n    def on_plot_geometricShapeChanged(self, idx, shape):\n        self.gui.listLog.call(\"addItem\", \"shape %i changed: \" % idx + str(shape))\n\n    @ItomUi.autoslot(\"ito::Shape\")\n    def on_plot_geometricShapeCurrentChanged(self, shape):\n        self.gui.btnClearSelected[\"enabled\"] = shape.valid\n        self.gui.call(\"statusBar\").call(\n            \"showMessage\", \"Current shape changed to: %s\" % str(shape), 1000\n        )\n\n    @ItomUi.autoslot(\"QVector<ito::Shape>,bool\")\n    def on_plot_geometricShapeFinished(self, shapes, aborted):\n        self.drawShapeButtonsEnable(True)\n        if not aborted:\n            self.gui.listLog.call(\n                \"addItem\",\n                \"successfully finished to add or change the following shapes: \"\n                + str(shapes),\n            )\n        else:\n            self.gui.listLog.call(\n                \"addItem\",\n                \"adding geometric shape(s) aborted. %i shape(s) already added\"\n                % len(shapes),\n            )\n        self.gui.listLog.call(\"scrollToBottom\")\n\n    @ItomUi.autoslot(\"int,bool\")\n    def on_plot_geometricShapeStartUserInput(self, type, userInteractionReason):\n        if (\n            userInteractionReason == False\n        ):  # user selected a button in the toolbar to draw a new shape, disable buttons\n            self.drawShapeButtonsEnable(False)\n\n    @ItomUi.autoslot(\"\")\n    def on_btnClearLog_clicked(self):\n        self.gui.listLog.call(\"clear\")\n\n    @ItomUi.autoslot(\"\")\n    def on_btnCancel_clicked(self):\n        self.gui.plot.call(\"userInteractionStart\", -1, False, 0)\n\n\nif __name__ == \"__main__\":\n    dObj = dataObject.randN([600, 800], \"float32\")\n    uiShapeDemo = UiShapeDemo()\n    uiShapeDemo.show()"
      ]
    },
    {
      "cell_type": "markdown",
      "metadata": {},
      "source": [
        "<img src=\"file://../../_static/demoUIShape_1.png\" width=\"100%\">\n\n"
      ]
    }
  ],
  "metadata": {
    "kernelspec": {
      "display_name": "Python 3",
      "language": "python",
      "name": "python3"
    },
    "language_info": {
      "codemirror_mode": {
        "name": "ipython",
        "version": 3
      },
      "file_extension": ".py",
      "mimetype": "text/x-python",
      "name": "python",
      "nbconvert_exporter": "python",
      "pygments_lexer": "ipython3",
      "version": "3.12.4"
    }
  },
  "nbformat": 4,
  "nbformat_minor": 0
}
