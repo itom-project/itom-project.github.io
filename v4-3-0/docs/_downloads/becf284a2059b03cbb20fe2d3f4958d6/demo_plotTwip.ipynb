{
  "cells": [
    {
      "cell_type": "markdown",
      "metadata": {},
      "source": [
        "# Plot 2.5D/ 3D\n\nThe itom twipOGLFigure plot is for visualisation of 2D / 3D DataObjects and PointClouds.\n"
      ]
    },
    {
      "cell_type": "code",
      "execution_count": null,
      "metadata": {
        "collapsed": false
      },
      "outputs": [],
      "source": [
        "import numpy as np\nfrom itom import plot25"
      ]
    },
    {
      "cell_type": "markdown",
      "metadata": {},
      "source": [
        "A two dimensional sinus wave is generated und plotted using the TwipOGLFigure.\n\n"
      ]
    },
    {
      "cell_type": "code",
      "execution_count": null,
      "metadata": {
        "collapsed": false
      },
      "outputs": [],
      "source": [
        "N = 1024\namplitude = 128.0\nperiodes = 3\n\nxs = np.linspace(-periodes * np.pi, periodes * np.pi, N)\nys = np.linspace(-periodes * np.pi, periodes * np.pi, N)\n\ntau, phi = np.meshgrid(xs, ys)\n\namp = np.sin(tau + phi)\n\n\nplot25(amp)"
      ]
    },
    {
      "cell_type": "markdown",
      "metadata": {},
      "source": [
        "<img src=\"file://../../_static/demoPlotTwipOGL.png\" width=\"100%\">\n\n"
      ]
    }
  ],
  "metadata": {
    "kernelspec": {
      "display_name": "Python 3",
      "language": "python",
      "name": "python3"
    },
    "language_info": {
      "codemirror_mode": {
        "name": "ipython",
        "version": 3
      },
      "file_extension": ".py",
      "mimetype": "text/x-python",
      "name": "python",
      "nbconvert_exporter": "python",
      "pygments_lexer": "ipython3",
      "version": "3.12.4"
    }
  },
  "nbformat": 4,
  "nbformat_minor": 0
}