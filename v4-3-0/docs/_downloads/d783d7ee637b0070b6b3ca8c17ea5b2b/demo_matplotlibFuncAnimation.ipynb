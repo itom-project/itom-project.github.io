{
  "cells": [
    {
      "cell_type": "markdown",
      "metadata": {},
      "source": [
        "# 1D func animation\n\nThis example demonstrates how matplotlib can be used to create\nanimated movie and export these in the mp4 movie format.\nIt is shown here with some random generated 2d images, which ware plotted via matplotlib.\nBy using the figure handle the animation is created. So you can plot your matplot\nfigures in your own way and used some similar syntax to create an animation.\n\nFirst of all you must install the matplotlib package, e.g. from\nhttps://pypi.org/project/matplotlib/\n\nThen you must install the ffmpeg codec. A detailed description can be found on:\nhttp://blog.gregzaal.com/how-to-install-ffmpeg-on-windows/\n\nThe build version of the ffmpeg codec can be downloaded here:\nhttp://ffmpeg.zeranoe.com/builds/\n\nDownload and unzip the builds files to your harddrive. Typically the folder is like:\nC:\\Program files\\ffmpeg\n\nThe bin folder of ffmpeg must be added to the path variables of your system:\nC:\\Program files\\ffmpeg\\bin\n\nFinally start the command prompt and run the command:\nC:\\Program files\\ffmpeg\\bin\\ffmpeg.exe -codecs\n\nor easier:\nffmpeg -codecs\n"
      ]
    },
    {
      "cell_type": "code",
      "execution_count": null,
      "metadata": {
        "collapsed": false
      },
      "outputs": [],
      "source": [
        "import numpy as np"
      ]
    },
    {
      "cell_type": "markdown",
      "metadata": {},
      "source": [
        "Import namespaces\n\n"
      ]
    },
    {
      "cell_type": "code",
      "execution_count": null,
      "metadata": {
        "collapsed": false
      },
      "outputs": [],
      "source": [
        "import matplotlib.pyplot as plt\nfrom matplotlib.animation import FuncAnimation"
      ]
    },
    {
      "cell_type": "markdown",
      "metadata": {},
      "source": [
        "Function to generate parametric plot\n\n"
      ]
    },
    {
      "cell_type": "code",
      "execution_count": null,
      "metadata": {
        "collapsed": false
      },
      "outputs": [],
      "source": [
        "def parametric_plot(T, e):\n    t = np.linspace(0, T, 1000)\n    x = np.cos(-t)\n    y = np.cos(-t + e)\n\n    plt.plot(x, y, color=\"b\")\n\n    plt.xlim(-1.1, 1.1)\n    plt.ylim(-1.1, 1.1)\n    plt.gca().set_aspect(\"equal\", adjustable=\"box\")\n    plt.title(f\"T = {T:.2f}, e = {e:.2f}\")"
      ]
    },
    {
      "cell_type": "markdown",
      "metadata": {},
      "source": [
        "Function to calculate ellipse parameters\n\n"
      ]
    },
    {
      "cell_type": "code",
      "execution_count": null,
      "metadata": {
        "collapsed": false
      },
      "outputs": [],
      "source": [
        "def calculate_ellipse_params(T, e):\n    t = np.linspace(0, T, 1000)\n    x = np.cos(-t)\n    y = np.cos(-t + e)\n\n    # Calculate width and height\n    width = np.max(x) - np.min(x)\n    height = np.max(y) - np.min(y)\n\n    # Calculate covariance matrix\n    covariance_matrix = np.cov(x, y)\n\n    # Calculate eigenvalues and eigenvectors\n    eigenvalues, eigenvectors = np.linalg.eig(covariance_matrix)\n\n    # Get angle of rotation (angle of major axis with respect to x-axis)\n    major_axis_index = np.argmax(eigenvalues)\n    major_axis_vector = eigenvectors[:, major_axis_index]\n    angle_rad = np.arctan2(major_axis_vector[1], major_axis_vector[0])\n    angle_deg = np.degrees(angle_rad)\n\n    return width, height, angle_deg"
      ]
    },
    {
      "cell_type": "markdown",
      "metadata": {},
      "source": [
        "Calculate ellipse parameters for a full oscillation\n\n"
      ]
    },
    {
      "cell_type": "code",
      "execution_count": null,
      "metadata": {
        "collapsed": false
      },
      "outputs": [],
      "source": [
        "T_full = 2 * np.pi\ne_full = 45\nwidth, height, angle_deg = calculate_ellipse_params(T_full, e_full)\n\n# Create figure and plot ellipse\nfig, ax = plt.subplots()\n\n\n# Setting up the animation\ndef update(frame):\n    ax.clear()\n    parametric_plot(frame, e)\n\n\ne = 45\nani = FuncAnimation(\n    fig, update, frames=np.linspace(0.01, T_full, 100), repeat=True, interval=50\n)\n\nplt.show()"
      ]
    }
  ],
  "metadata": {
    "kernelspec": {
      "display_name": "Python 3",
      "language": "python",
      "name": "python3"
    },
    "language_info": {
      "codemirror_mode": {
        "name": "ipython",
        "version": 3
      },
      "file_extension": ".py",
      "mimetype": "text/x-python",
      "name": "python",
      "nbconvert_exporter": "python",
      "pygments_lexer": "ipython3",
      "version": "3.12.4"
    }
  },
  "nbformat": 4,
  "nbformat_minor": 0
}
