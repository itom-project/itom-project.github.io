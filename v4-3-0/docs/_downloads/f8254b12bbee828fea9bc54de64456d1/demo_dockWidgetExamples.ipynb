{
  "cells": [
    {
      "cell_type": "markdown",
      "metadata": {},
      "source": [
        "# Dockwidget\n\nCreate a dockWidget form the main window at the bottom dock widget area\nThe dock widget can be destroyed by deleting the variable, that references to it.\n\nIf the dock widget is hidden by clicking the close button, it is hidden and can\nbe re-shown e.g. by the context menu of the toolbar of ``itom``.\n"
      ]
    },
    {
      "cell_type": "code",
      "execution_count": null,
      "metadata": {
        "collapsed": false
      },
      "outputs": [],
      "source": [
        "from itom import ui\n\n\n\nbottom_dock_window = ui(\n    \"mainWindow.ui\", ui.TYPEDOCKWIDGET, dockWidgetArea=ui.BOTTOMDOCKWIDGETAREA\n)"
      ]
    },
    {
      "cell_type": "markdown",
      "metadata": {},
      "source": [
        "Create a dock widget form the main window at the bottom dock widget area\nThe dock widget can be destroyed by deleting the variable, that references to it.\nIf the dock widget is hidden by clicking the close button, it is hidden and can\nbe re-shown e.g. by the context menu of the toolbar of itom.\n\n"
      ]
    },
    {
      "cell_type": "code",
      "execution_count": null,
      "metadata": {
        "collapsed": false
      },
      "outputs": [],
      "source": [
        "right_dock_widget = ui(\n    \"widget.ui\", ui.TYPEDOCKWIDGET, dockWidgetArea=ui.RIGHTDOCKWIDGETAREA\n)\n\nbottom_dock_window.show()\nright_dock_widget.show()"
      ]
    }
  ],
  "metadata": {
    "kernelspec": {
      "display_name": "Python 3",
      "language": "python",
      "name": "python3"
    },
    "language_info": {
      "codemirror_mode": {
        "name": "ipython",
        "version": 3
      },
      "file_extension": ".py",
      "mimetype": "text/x-python",
      "name": "python",
      "nbconvert_exporter": "python",
      "pygments_lexer": "ipython3",
      "version": "3.12.4"
    }
  },
  "nbformat": 4,
  "nbformat_minor": 0
}
