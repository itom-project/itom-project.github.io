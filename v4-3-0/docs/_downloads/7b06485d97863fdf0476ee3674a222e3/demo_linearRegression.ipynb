{
  "cells": [
    {
      "cell_type": "markdown",
      "metadata": {},
      "source": [
        "# Linear regression\n"
      ]
    },
    {
      "cell_type": "code",
      "execution_count": null,
      "metadata": {
        "collapsed": false
      },
      "outputs": [],
      "source": [
        "import seaborn as sns\n\nsns.set_theme()\n\n# Load the penguins dataset\npenguins = sns.load_dataset(\"penguins\")\n\n# Plot sepal width as a function of sepal_length across days\ng = sns.lmplot(\n    data=penguins, x=\"bill_length_mm\", y=\"bill_depth_mm\", hue=\"species\", height=5\n)\n\n# Use more informative axis labels than are provided by default\ng.set_axis_labels(\"Snoot length (mm)\", \"Snoot depth (mm)\")"
      ]
    }
  ],
  "metadata": {
    "kernelspec": {
      "display_name": "Python 3",
      "language": "python",
      "name": "python3"
    },
    "language_info": {
      "codemirror_mode": {
        "name": "ipython",
        "version": 3
      },
      "file_extension": ".py",
      "mimetype": "text/x-python",
      "name": "python",
      "nbconvert_exporter": "python",
      "pygments_lexer": "ipython3",
      "version": "3.12.4"
    }
  },
  "nbformat": 4,
  "nbformat_minor": 0
}