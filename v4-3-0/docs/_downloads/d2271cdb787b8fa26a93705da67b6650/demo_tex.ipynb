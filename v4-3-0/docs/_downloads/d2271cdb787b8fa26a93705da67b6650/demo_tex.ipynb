{
  "cells": [
    {
      "cell_type": "markdown",
      "metadata": {},
      "source": [
        "# Tex\n"
      ]
    },
    {
      "cell_type": "code",
      "execution_count": null,
      "metadata": {
        "collapsed": false
      },
      "outputs": [],
      "source": [
        "# imports\nimport matplotlib.pyplot as plt\nimport numpy as np\n\n# http://matplotlib.org/users/customizing.html\nplt.rcParams[\"font.family\"] = \"serif\""
      ]
    },
    {
      "cell_type": "markdown",
      "metadata": {},
      "source": [
        "Generate without latex.usetext\n\n"
      ]
    },
    {
      "cell_type": "code",
      "execution_count": null,
      "metadata": {
        "collapsed": false
      },
      "outputs": [],
      "source": [
        "title = r\"TeX is Number $\\sum_{n=1}^\\infty \\frac{-e^{i\\pi}}{2^n}$!\"\nxLabel = r\"time (s)\"\nyLabel = \"velocity [\u00b0/sec]\"\n\nfig, ax = plt.subplots(1)  # create a new figure window\nt = np.arange(0.0, 1.0 + 0.01, 0.01)\ns = np.cos(2 * 2 * np.pi * t) + 2\n\nax.plot(t, s)  # plot line\n\nax.set_xlabel(xLabel)  # x axis label\nax.set_ylabel(yLabel)  # y axis label\nax.set_title(title, fontsize=16, color=\"r\")  # title\n\nax.grid(True)  # create grid\nplt.show()"
      ]
    }
  ],
  "metadata": {
    "kernelspec": {
      "display_name": "Python 3",
      "language": "python",
      "name": "python3"
    },
    "language_info": {
      "codemirror_mode": {
        "name": "ipython",
        "version": 3
      },
      "file_extension": ".py",
      "mimetype": "text/x-python",
      "name": "python",
      "nbconvert_exporter": "python",
      "pygments_lexer": "ipython3",
      "version": "3.12.4"
    }
  },
  "nbformat": 4,
  "nbformat_minor": 0
}