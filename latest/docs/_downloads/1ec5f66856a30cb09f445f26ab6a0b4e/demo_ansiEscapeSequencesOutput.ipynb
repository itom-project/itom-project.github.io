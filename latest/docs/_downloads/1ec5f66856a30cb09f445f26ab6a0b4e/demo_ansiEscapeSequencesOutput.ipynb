{
  "cells": [
    {
      "cell_type": "markdown",
      "metadata": {},
      "source": [
        "# ANSI escape codes\n\nThis demo shows some possibilities of ANSI escape codes.\n"
      ]
    },
    {
      "cell_type": "markdown",
      "metadata": {},
      "source": [
        "Change the text color\n\n"
      ]
    },
    {
      "cell_type": "markdown",
      "metadata": {},
      "source": [
        "set the text colors to pre-defined values, followed by a reset\n\n"
      ]
    },
    {
      "cell_type": "code",
      "execution_count": null,
      "metadata": {
        "collapsed": false
      },
      "outputs": [],
      "source": [
        "print(\"\\u001b[30m A \\u001b[31m B \\u001b[32m C \\u001b[33m D \\u001b[0mText after reset\")\nprint(\"\\u001b[34m E \\u001b[35m F \\u001b[36m G \\u001b[37m H \\u001b[0mText after reset\")"
      ]
    },
    {
      "cell_type": "markdown",
      "metadata": {},
      "source": [
        "use the prefix 1 to choose are more lighter text color\n\n"
      ]
    },
    {
      "cell_type": "code",
      "execution_count": null,
      "metadata": {
        "collapsed": false
      },
      "outputs": [],
      "source": [
        "print(\n    \"\\u001b[30;1m A \\u001b[31;1m B \\u001b[32;1m C \\u001b[33;1m D \\u001b[0mText after reset\"\n)\nprint(\n    \"\\u001b[34;1m E \\u001b[35;1m F \\u001b[36;1m G \\u001b[37;1m H \\u001b[0mText after reset\"\n)"
      ]
    },
    {
      "cell_type": "markdown",
      "metadata": {},
      "source": [
        "now the same with the background color\n\n"
      ]
    },
    {
      "cell_type": "code",
      "execution_count": null,
      "metadata": {
        "collapsed": false
      },
      "outputs": [],
      "source": [
        "print(\"\\u001b[40m A \\u001b[41m B \\u001b[42m C \\u001b[43m D \\u001b[0mText after reset\")\nprint(\"\\u001b[44m E \\u001b[45m F \\u001b[46m G \\u001b[47m H \\u001b[0mText after reset\")\nprint(\n    \"\\u001b[40;1m A \\u001b[41;1m B \\u001b[42;1m C \\u001b[43;1m D \\u001b[0mText after reset\"\n)\nprint(\n    \"\\u001b[44;1m E \\u001b[45;1m F \\u001b[46;1m G \\u001b[47;1m H \\u001b[0mText after reset\"\n)"
      ]
    },
    {
      "cell_type": "markdown",
      "metadata": {},
      "source": [
        "use text bold, underline, italic or combine them\n\n"
      ]
    },
    {
      "cell_type": "code",
      "execution_count": null,
      "metadata": {
        "collapsed": false
      },
      "outputs": [],
      "source": [
        "print(\n    \"\\u001b[1;3;4mText bold, underline and italic \\u001b[22mRemove bold only \"\n    \"\\u001b[23;1mRemove italic and set bold again \\u001b[0mReset all\"\n)"
      ]
    }
  ],
  "metadata": {
    "kernelspec": {
      "display_name": "Python 3",
      "language": "python",
      "name": "python3"
    },
    "language_info": {
      "codemirror_mode": {
        "name": "ipython",
        "version": 3
      },
      "file_extension": ".py",
      "mimetype": "text/x-python",
      "name": "python",
      "nbconvert_exporter": "python",
      "pygments_lexer": "ipython3",
      "version": "3.12.4"
    }
  },
  "nbformat": 4,
  "nbformat_minor": 0
}
