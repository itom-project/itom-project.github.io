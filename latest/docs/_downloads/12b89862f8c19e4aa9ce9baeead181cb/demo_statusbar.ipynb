{
  "cells": [
    {
      "cell_type": "markdown",
      "metadata": {},
      "source": [
        "# Statusbar\n\nThis is a short tutorial about how to use the statusbar\n"
      ]
    },
    {
      "cell_type": "code",
      "execution_count": null,
      "metadata": {
        "collapsed": false
      },
      "outputs": [],
      "source": [
        "from itomUi import ItomUi\nfrom itom import ui\nimport os\nimport inspect\n\n\n\nclass Statusbar(ItomUi):\n    def __init__(self):\n        \"\"\"get current path and and initialize the GUI\"\"\"\n        dir = os.path.dirname(os.path.abspath(inspect.getfile(inspect.currentframe())))\n        absPath = os.path.join(dir, \"statusbar.ui\")\n        ItomUi.__init__(\n            self,\n            absPath,\n            ui.TYPEWINDOW,\n            ui.BUTTONBAR_VERTICAL,\n            {\"AcceptRole\": \"OK\", \"RejectRole\": \"Cancel\"},\n        )\n\n    @ItomUi.autoslot(\"\")\n    def on_btnAdd_clicked(self):\n        \"\"\"call the status bar and show the message: Here I am\"\"\"\n        self.gui.call(\"statusBar\").call(\"showMessage\", \"Here I am\")\n\n    @ItomUi.autoslot(\"\")\n    def on_btnShow_clicked(self):\n        \"\"\"call the status bar and show the message: I am here for a second. The message will disappear after 1000 ms\"\"\"\n        self.gui.call(\"statusBar\").call(\"showMessage\", \"I am here for a second\", 1000)\n\n    @ItomUi.autoslot(\"\")\n    def on_btnDelete_clicked(self):\n        \"\"\"clear the status bar\"\"\"\n        self.gui.call(\"statusBar\").call(\"clearMessage\")\n\n\nif __name__ == \"__main__\":\n    inst = Statusbar()\n    inst.show()  # show the gui"
      ]
    }
  ],
  "metadata": {
    "kernelspec": {
      "display_name": "Python 3",
      "language": "python",
      "name": "python3"
    },
    "language_info": {
      "codemirror_mode": {
        "name": "ipython",
        "version": 3
      },
      "file_extension": ".py",
      "mimetype": "text/x-python",
      "name": "python",
      "nbconvert_exporter": "python",
      "pygments_lexer": "ipython3",
      "version": "3.12.4"
    }
  },
  "nbformat": 4,
  "nbformat_minor": 0
}
