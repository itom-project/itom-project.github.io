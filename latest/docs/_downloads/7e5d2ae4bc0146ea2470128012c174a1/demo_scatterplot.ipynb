{
  "cells": [
    {
      "cell_type": "markdown",
      "metadata": {},
      "source": [
        "# Scatterplot\n"
      ]
    },
    {
      "cell_type": "code",
      "execution_count": null,
      "metadata": {
        "collapsed": false
      },
      "outputs": [],
      "source": [
        "import seaborn as sns\n\nsns.set_theme(style=\"white\")\n\n# Load the example mpg dataset\nmpg = sns.load_dataset(\"mpg\")\n\n# Plot miles per gallon against horsepower with other semantics\nsns.relplot(\n    x=\"horsepower\",\n    y=\"mpg\",\n    hue=\"origin\",\n    size=\"weight\",\n    sizes=(40, 400),\n    alpha=0.5,\n    palette=\"muted\",\n    height=6,\n    data=mpg,\n)"
      ]
    }
  ],
  "metadata": {
    "kernelspec": {
      "display_name": "Python 3",
      "language": "python",
      "name": "python3"
    },
    "language_info": {
      "codemirror_mode": {
        "name": "ipython",
        "version": 3
      },
      "file_extension": ".py",
      "mimetype": "text/x-python",
      "name": "python",
      "nbconvert_exporter": "python",
      "pygments_lexer": "ipython3",
      "version": "3.12.4"
    }
  },
  "nbformat": 4,
  "nbformat_minor": 0
}
