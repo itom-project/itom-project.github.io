{
  "cells": [
    {
      "cell_type": "markdown",
      "metadata": {},
      "source": [
        "# Sankey diagram\n\nThis demo shows how to use the Python ``plotly`` package under itom.\n\nIn order to show plotly outputs in itom figures, it is only necessary\nto import the ``itomPlotlyRenderer`` module once at the beginning of your\nscript. This adds an itom specific renderer to Plotly and uses it as default.\n\nThe plotly outputs are then shown in an itom designerPlugin with the name\n``plotlyPlot``.\n"
      ]
    },
    {
      "cell_type": "code",
      "execution_count": null,
      "metadata": {
        "collapsed": false
      },
      "outputs": [],
      "source": [
        "import itomPlotlyRenderer\n\n\nimport plotly.graph_objects as go\nimport json\n\nwith open(\"sankey_energy.json\") as file:\n    data = json.load(file)\n\n# override gray link colors with 'source' colors\nopacity = 0.4\n# change 'magenta' to its 'rgba' value to add opacity\ndata[\"data\"][0][\"node\"][\"color\"] = [\n    \"rgba(255,0,255, 0.8)\" if color == \"magenta\" else color\n    for color in data[\"data\"][0][\"node\"][\"color\"]\n]\ndata[\"data\"][0][\"link\"][\"color\"] = [\n    data[\"data\"][0][\"node\"][\"color\"][src].replace(\"0.8\", str(opacity))\n    for src in data[\"data\"][0][\"link\"][\"source\"]\n]\n\nfig = go.Figure(\n    data=[\n        go.Sankey(\n            valueformat=\".0f\",\n            valuesuffix=\"TWh\",\n            # Define nodes\n            node=dict(\n                pad=15,\n                thickness=15,\n                line=dict(color=\"black\", width=0.5),\n                label=data[\"data\"][0][\"node\"][\"label\"],\n                color=data[\"data\"][0][\"node\"][\"color\"],\n            ),\n            # Add links\n            link=dict(\n                source=data[\"data\"][0][\"link\"][\"source\"],\n                target=data[\"data\"][0][\"link\"][\"target\"],\n                value=data[\"data\"][0][\"link\"][\"value\"],\n                label=data[\"data\"][0][\"link\"][\"label\"],\n                color=data[\"data\"][0][\"link\"][\"color\"],\n            ),\n        )\n    ]\n)\n\nfig.update_layout(\n    title_text=\"Energy forecast for 2050<br>Source: Department of Energy & Climate Change, \"\n    \"Tom Counsell via <a href='https://bost.ocks.org/mike/sankey/'>Mike Bostock</a>\",\n    font_size=10,\n)\nfig.show()"
      ]
    }
  ],
  "metadata": {
    "kernelspec": {
      "display_name": "Python 3",
      "language": "python",
      "name": "python3"
    },
    "language_info": {
      "codemirror_mode": {
        "name": "ipython",
        "version": 3
      },
      "file_extension": ".py",
      "mimetype": "text/x-python",
      "name": "python",
      "nbconvert_exporter": "python",
      "pygments_lexer": "ipython3",
      "version": "3.12.4"
    }
  },
  "nbformat": 4,
  "nbformat_minor": 0
}
