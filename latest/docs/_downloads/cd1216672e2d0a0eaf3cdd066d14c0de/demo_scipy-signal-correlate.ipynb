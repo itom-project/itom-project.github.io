{
  "cells": [
    {
      "cell_type": "code",
      "execution_count": null,
      "metadata": {
        "collapsed": false
      },
      "outputs": [],
      "source": [
        "%matplotlib inline"
      ]
    },
    {
      "cell_type": "markdown",
      "metadata": {},
      "source": [
        "# Signal correlation\n\nImplement a matched filter using cross-correlation, to recover a signal\nthat has passed through a noisy channel.\n"
      ]
    },
    {
      "cell_type": "code",
      "execution_count": null,
      "metadata": {
        "collapsed": false
      },
      "outputs": [],
      "source": [
        "from scipy import signal\nimport numpy as np\nimport matplotlib.pyplot as plt\n\n\nsig = np.repeat([0.0, 1.0, 1.0, 0.0, 1.0, 0.0, 0.0, 1.0], 128)\nsig_noise = sig + np.random.randn(len(sig))\ncorr = signal.correlate(sig_noise, np.ones(128), mode=\"same\") / 128\n\nclock = np.arange(64, len(sig), 128)\nfig, (ax_orig, ax_noise, ax_corr) = plt.subplots(3, 1, sharex=True)\nax_orig.plot(sig)\nax_orig.plot(clock, sig[clock], \"ro\")\nax_orig.set_title(\"Original signal\")\nax_noise.plot(sig_noise)\nax_noise.set_title(\"Signal with noise\")\nax_corr.plot(corr)\nax_corr.plot(clock, corr[clock], \"ro\")\nax_corr.axhline(0.5, ls=\":\")\nax_corr.set_title(\"Cross-correlated with rectangular pulse\")\nax_orig.margins(0, 0.1)\nfig.tight_layout()\nfig.show()"
      ]
    }
  ],
  "metadata": {
    "kernelspec": {
      "display_name": "Python 3",
      "language": "python",
      "name": "python3"
    },
    "language_info": {
      "codemirror_mode": {
        "name": "ipython",
        "version": 3
      },
      "file_extension": ".py",
      "mimetype": "text/x-python",
      "name": "python",
      "nbconvert_exporter": "python",
      "pygments_lexer": "ipython3",
      "version": "3.8.10"
    }
  },
  "nbformat": 4,
  "nbformat_minor": 0
}