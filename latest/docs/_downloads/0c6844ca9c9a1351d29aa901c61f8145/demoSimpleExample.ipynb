{
  "cells": [
    {
      "cell_type": "code",
      "execution_count": null,
      "metadata": {
        "collapsed": false
      },
      "outputs": [],
      "source": [
        "%matplotlib inline"
      ]
    },
    {
      "cell_type": "markdown",
      "metadata": {},
      "source": [
        "# Simple UI\n\nThis script shows an example how to integrate the user interface\n``simpleExample.ui`` into ``itom``, connect it with the necessary methods\nand show it.\n\nCreate dialog instance, that represents the user interface.\nThe ui-file is a simple widget that should be embedded in an auto-created\nwindow, that ``itom`` provides for us (type: ``ui.TYPEDIALOG``).\n\nWe want to have an auto-created vertical button bar at the right side\n(dialogButtonBar = ``ui.BUTTONBAR_VERTICAL``). The button bar\nshould consist of one ``OK`` button, therefore its role is ``AcceptRole``.\n"
      ]
    },
    {
      "cell_type": "code",
      "execution_count": null,
      "metadata": {
        "collapsed": false
      },
      "outputs": [],
      "source": [
        "from itom import ui\n\n\nmainWin = ui(\n    \"simpleExample.ui\",\n    ui.TYPEDIALOG,\n    ui.BUTTONBAR_VERTICAL,\n    {\"AcceptRole\": \"OK\"},\n)"
      ]
    },
    {
      "cell_type": "markdown",
      "metadata": {},
      "source": [
        "First group box: show text of textfield in a message box. Set default text of TextField with name txtMessage.\n\n"
      ]
    },
    {
      "cell_type": "code",
      "execution_count": null,
      "metadata": {
        "collapsed": false
      },
      "outputs": [],
      "source": [
        "field = mainWin.txtMessage  # you can get an instance (class uiItem) of any sub-element of your user interface\nfield[\"text\"] = \"hello world\"\n\n# the same can be done directly:\nmainWin.txtMessage[\"text\"] = \"hello world\""
      ]
    },
    {
      "cell_type": "markdown",
      "metadata": {},
      "source": [
        "Now we want to connect the ``clicked`` signal of the button with the method ``showMessage``.\nHow do I know which signal any GUI-element can emit?\n\n.. hint::\n    see Qt help -> goto to class corresponding to your element and check the available signals\n    of that class and all inherited classes (QPushButton >> QAbstractPushButton >> QWidget...)\n    Note the name of the signal you want to connect and the argument list (clicked(bool checked = false))\nIn our case, we want to connect to the ``clicked`` signal, its argument can be a boolean argument (optional)\n\nFinally, we connect the clicked-signal without argument (not interesting for us) with a method ``showMessage``\nThis method needs to have the same number of arguments than the signal (here: 0)\n\n"
      ]
    },
    {
      "cell_type": "code",
      "execution_count": null,
      "metadata": {
        "collapsed": false
      },
      "outputs": [],
      "source": [
        "def showMessage():\n    text = mainWin.txtMessage[\"text\"]\n    ui.msgInformation(\"your text\", text, parent=mainWin)\n\n\nmainWin.btnShowText.connect(\"clicked()\", showMessage)"
      ]
    },
    {
      "cell_type": "markdown",
      "metadata": {},
      "source": [
        "Second group box: show getDirectory-dialog and print the chosen directory in the text field.\n\n"
      ]
    },
    {
      "cell_type": "code",
      "execution_count": null,
      "metadata": {
        "collapsed": false
      },
      "outputs": [],
      "source": [
        "def showGetDirectory():\n    directory = ui.getExistingDirectory(\"chose directory\", itom.getCurrentPath(), parent=mainWin)\n    if directory is None:\n        pass\n        # cancel has been clicked\n    else:\n        mainWin.txtDirectory[\"text\"] = directory\n\n\n# connect the clicked-signal of toolSelectDir with showGetDirectory\nmainWin.toolSelectDir.connect(\"clicked()\", showGetDirectory)\n\n# if txtDirectory has the property 'readOnly' set to true, the button btnReadOnly should be 'checked'.\nmainWin.btnReadOnly[\"checked\"] = mainWin.txtDirectory[\"readOnly\"]\n\n# if the button is toggled (check-state is changed), then we want to change the ready-only property.\ndef btnReadOnlyToggled(checked):\n    mainWin.txtDirectory[\"readOnly\"] = checked\n\n\nmainWin.btnReadOnly.connect(\"clicked(bool)\", btnReadOnlyToggled)"
      ]
    },
    {
      "cell_type": "markdown",
      "metadata": {},
      "source": [
        "At first, the third group box should be hidden.\nIf the checkbox checkShowThirdExample is clicked, the visibility should change.\nWe have two possibilities:\n\n* Change visible-property of group3,\n* Use the slot (special, accessible method of any widget, that can be addressed by python)\n  ``hide`` or ``show`` from group3 (the slots are part of any widget)\n  in order to show or hide the element.\n\n"
      ]
    },
    {
      "cell_type": "code",
      "execution_count": null,
      "metadata": {
        "collapsed": false
      },
      "outputs": [],
      "source": [
        "def checkShowThirdExample_clicked(checked):\n    # Here: we want to call the slots\n    if checked:\n        mainWin.group3.call(\"show\")\n    else:\n        mainWin.group3.call(\"hide\")\n\n\nmainWin.checkShowThirdExample.connect(\"clicked(bool)\", checkShowThirdExample_clicked)\n\n# initially, hide group3\nmainWin.group3.call(\"hide\")"
      ]
    },
    {
      "cell_type": "markdown",
      "metadata": {},
      "source": [
        "Connect radio-button list with list-box. If you see Qt help for QListWidget,\nyou will see, that there is no slot, that you can use to add items to a listWidget.\nHowever, for some special widgets, a selection of public methods is nevertheless accessible\nin the same way than a slot. In case of a listWidget, this is ``addItem``, ``addItems``.\nThis is used, to add the names of all radio buttons to the list.\n\n"
      ]
    },
    {
      "cell_type": "code",
      "execution_count": null,
      "metadata": {
        "collapsed": false
      },
      "outputs": [],
      "source": [
        "listBox = mainWin.listWidget\n\nlistBox.call(\"addItem\", mainWin.radio1[\"text\"])\nlistBox.call(\"addItems\", [mainWin.radio2[\"text\"], mainWin.radio3[\"text\"]])\n\n# let us pre-select the second radio button and the second list item\nmainWin.radio2[\"checked\"] = True\nlistBox[\"currentRow\"] = 1\n\n\ndef listCurrentChanged(row):\n    if row == 0:\n        mainWin.radio1[\"checked\"] = True\n    elif row == 1:\n        mainWin.radio2[\"checked\"] = True\n    else:\n        mainWin.radio3[\"checked\"] = True\n\n\n# if the current item in the list is changed, the corresponding radio button should be checked\nlistBox.connect(\"currentRowChanged(int)\", listCurrentChanged)"
      ]
    },
    {
      "cell_type": "markdown",
      "metadata": {},
      "source": [
        "To show the dialog you have three options:\n\n* Show dialog in a non-modal form (user can still click something else in itom).\n\n```python\nmainWin.show(0) or mainWin.show()\n```\n* Show dialog in a model form (user cannot interact with itom, python script execution stops until\n  dialog has been closed. The return value is the role-number of the button, that has been clicked\n  for closing (``AcceptRole``:0, ``RejectRole``:1) (see Qt-enum ``QDialogButtonBox::ButtonRole``).\n\n```python\nmainWin.show(1)\n```\n* Show dialog in a model form, python script execution continues,\n  you don't have access to the return value.\n\n```python\nmainWin.show(2)\n```\n"
      ]
    },
    {
      "cell_type": "code",
      "execution_count": null,
      "metadata": {
        "collapsed": false
      },
      "outputs": [],
      "source": [
        "mainWin.show(1)"
      ]
    }
  ],
  "metadata": {
    "kernelspec": {
      "display_name": "Python 3",
      "language": "python",
      "name": "python3"
    },
    "language_info": {
      "codemirror_mode": {
        "name": "ipython",
        "version": 3
      },
      "file_extension": ".py",
      "mimetype": "text/x-python",
      "name": "python",
      "nbconvert_exporter": "python",
      "pygments_lexer": "ipython3",
      "version": "3.8.10"
    }
  },
  "nbformat": 4,
  "nbformat_minor": 0
}