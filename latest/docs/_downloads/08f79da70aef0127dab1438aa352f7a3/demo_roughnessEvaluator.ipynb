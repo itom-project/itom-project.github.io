{
  "cells": [
    {
      "cell_type": "markdown",
      "metadata": {},
      "source": [
        "# Roughness evaluation\n\nThis demo opens the Roughness Evaluator app.\n\nThis app is contained in the apps.roughnessEvaluator module\nof the itom-packages folder of ``itom``. \nThe usage of this demo requires the algorithm plugin ``Roughness``.\n"
      ]
    },
    {
      "cell_type": "code",
      "execution_count": null,
      "metadata": {
        "collapsed": false
      },
      "outputs": [],
      "source": [
        "from apps.roughnessEvaluator import profile_roughness  # from itom-packages\nfrom itom import pluginLoaded\n\nif pluginLoaded(\"Roughness\") == False:\n    raise RuntimeError(\"The algorithm plugin 'Roughness' is not available\")\n\n\nprofile_roughness = profile_roughness.ProfileRoughness()\nprofile_roughness.show()"
      ]
    },
    {
      "cell_type": "markdown",
      "metadata": {},
      "source": [
        "<img src=\"file://../../_static/demoRoughnessEvaluator_1.png\" width=\"100%\">\n"
      ]
    }
  ],
  "metadata": {
    "kernelspec": {
      "display_name": "Python 3",
      "language": "python",
      "name": "python3"
    },
    "language_info": {
      "codemirror_mode": {
        "name": "ipython",
        "version": 3
      },
      "file_extension": ".py",
      "mimetype": "text/x-python",
      "name": "python",
      "nbconvert_exporter": "python",
      "pygments_lexer": "ipython3",
      "version": "3.11.2"
    }
  },
  "nbformat": 4,
  "nbformat_minor": 0
}