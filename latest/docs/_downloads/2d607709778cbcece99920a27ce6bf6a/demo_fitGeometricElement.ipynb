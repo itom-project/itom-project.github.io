{
  "cells": [
    {
      "cell_type": "code",
      "execution_count": null,
      "metadata": {
        "collapsed": false
      },
      "outputs": [],
      "source": [
        "%matplotlib inline"
      ]
    },
    {
      "cell_type": "markdown",
      "metadata": {},
      "source": [
        "# Fit geometric element\n\nFit geomtric elements to pointClouds.\n"
      ]
    },
    {
      "cell_type": "code",
      "execution_count": null,
      "metadata": {
        "collapsed": false
      },
      "outputs": [],
      "source": [
        "import numpy as np\nimport math as mathe\nfrom itom import pointCloud\nfrom itom import dataObject\nfrom itom import algorithms\nfrom itom import plot\n\ngeometryList = [\n    \"circle2D\",\n    \"circle3D\",\n    \"sphere\",\n    \"cylinder\",\n    \"line\",\n    \"plane\",\n]\ncloud = pointCloud()\n\nfor fitGeometry in geometryList:\n    if fitGeometry == \"line\":\n\n        X = np.arange(-3.1, 3.1, 0.1) * 3\n        Y = np.arange(-3.1, 3.1, 0.1) * 3\n        Z = np.ones(X.shape, X.dtype)\n        cloud = pointCloud.fromXYZ(\n            dataObject(X.astype(\"float32\")),\n            dataObject(Y.astype(\"float32\")),\n            dataObject(Z.astype(\"float32\")),\n        )\n        # pclNorm = pointCloud()\n        # filter(\"pclEstimateNormals\", cloud, pclNorm)\n        # [cPt, cAxis, cInl] = filter(\"pclFitLine\", pclNorm, optimizeParameters=0)\n\n        [cPt, cAxis, cInl] = algorithms.pclFitLine(cloud, optimizeParameters=0)\n        print(\n            \"The line is at ({}, {}, {}) with the direction ({}, {}, {})\".format(\n                cPt[0], cPt[1], cPt[2], cAxis[0], cAxis[1], cAxis[2]\n            )\n        )\n\n    elif fitGeometry == \"plane\":\n\n        [X, Y] = np.meshgrid(np.arange(-2.0, 2.0, 0.1), np.arange(-2.0, 2.0, 0.1))\n        Z = np.ones(X.shape, X.dtype) + Y * np.sin(45 * np.pi / 180)\n        Y *= np.cos(45 * np.pi / 180)\n        cloud = pointCloud.fromXYZ(\n            dataObject(X.astype(\"float32\")),\n            dataObject(Y.astype(\"float32\")),\n            dataObject(Z.astype(\"float32\")),\n        )\n\n        [cVec, cPt, cInl] = algorithms.pclFitPlane(cloud, 1, optimizeParameters=0)\n\n        print(\"The plane's direction is ({}, {}, {}) with the constant {}\".format(cVec[0], cVec[1], cVec[2], cPt))\n\n    elif fitGeometry == \"circle2D\":\n\n        X = np.cos(np.arange(-3.1, 3.1, 0.1)) * 3\n        Y = np.sin(np.arange(-3.1, 3.1, 0.1)) * 3\n        Z = np.ones(X.shape, X.dtype)\n        cloud = pointCloud.fromXYZ(\n            dataObject(X.astype(\"float32\")),\n            dataObject(Y.astype(\"float32\")),\n            dataObject(Z.astype(\"float32\")),\n        )\n\n        [cPt, cRad, cInl] = algorithms.pclFitCircle2D(cloud, [1, 6], optimizeParameters=0)\n\n        print(\"The circle has a radius {} and is centered at ({}, {})\".format(cRad, cPt[0], cPt[1]))\n\n    elif fitGeometry == \"circle3D\":\n\n        X = np.cos(np.arange(-3.1, 3.1, 0.1)) * 3\n        Y = np.sin(np.arange(-3.1, 3.1, 0.1)) * 3\n        Z = np.ones(X.shape, X.dtype) + Y * np.sin(45 * np.pi / 180)\n        Y *= np.cos(45 * np.pi / 180)\n        cloud = pointCloud.fromXYZ(\n            dataObject(X.astype(\"float32\")),\n            dataObject(Y.astype(\"float32\")),\n            dataObject(Z.astype(\"float32\")),\n        )\n\n        [cPt, cNormal, cRad, cInl] = algorithms.pclFitCircle3D(cloud, [1, 6], optimizeParameters=0)\n\n        angle = (\n            mathe.acos(cNormal[2] / (cNormal[0] * cNormal[0] + cNormal[1] * cNormal[1] + cNormal[2] * cNormal[2]))\n            * 180\n            / np.pi\n        )\n\n        angle = np.mod(angle, 90)\n\n        print(\n            \"The circle has a radius {} and a angle of {} and is centered at ({}, {}, {})\".format(\n                cRad, angle, cPt[0], cPt[1], cPt[2]\n            )\n        )\n\n    elif fitGeometry == \"sphere\":\n\n        [X, Y] = np.meshgrid(np.arange(-2.0, 2.0, 0.1), np.arange(-2.0, 2.0, 0.1))\n        Z = np.sqrt(9 - Y * Y - X * X)\n        cloud = pointCloud.fromXYZ(\n            dataObject(X.astype(\"float32\")),\n            dataObject(Y.astype(\"float32\")),\n            dataObject(Z.astype(\"float32\")),\n        )\n\n        [cPt, cRad, cInl] = algorithms.pclFitSphere(cloud, [1, 6], optimizeParameters=0)\n        print(\"The sphere has a radius {} and is centered at ({}, {}, {})\".format(cRad, cPt[0], cPt[1], cPt[2]))\n    elif fitGeometry == \"cylinder\":\n\n        [X, Y] = np.meshgrid(np.arange(-2.0, 2.0, 0.1), np.arange(-2.0, 2.0, 0.1))\n        Z = np.sqrt(9 - Y * Y)\n        cloud = pointCloud.fromXYZ(\n            dataObject(X.astype(\"float32\")),\n            dataObject(Y.astype(\"float32\")),\n            dataObject(Z.astype(\"float32\")),\n        )\n\n        # For cylinder fits we need normals defined\n        pclNorm = pointCloud()\n        algorithms.pclEstimateNormals(cloud, pclNorm)\n\n        [cPt, cAxis, cRad, cInl] = algorithms.pclFitCylinder(pclNorm, [1, 6], optimizeParameters=0)\n        print(\n            \"The cylinder has a radius {} and its axis is at ({}, {}, {}) with the direction ({}, {}, {})\".format(\n                cRad, cPt[0], cPt[1], cPt[2], cAxis[0], cAxis[1], cAxis[2]\n            )\n        )\n    elif fitGeometry == \"cone\":\n        # Not defined yet\n        [X, Y] = np.meshgrid(np.arange(-2.0, 2.0, 0.1), np.arange(-2.0, 2.0, 0.1))\n        Z = np.sqrt(Y * Y + X * X)\n        cloud = pointCloud.fromXYZ(\n            dataObject(X.astype(\"float32\")),\n            dataObject(Y.astype(\"float32\")),\n            dataObject(Z.astype(\"float32\")),\n        )\n\n    plot(cloud)"
      ]
    }
  ],
  "metadata": {
    "kernelspec": {
      "display_name": "Python 3",
      "language": "python",
      "name": "python3"
    },
    "language_info": {
      "codemirror_mode": {
        "name": "ipython",
        "version": 3
      },
      "file_extension": ".py",
      "mimetype": "text/x-python",
      "name": "python",
      "nbconvert_exporter": "python",
      "pygments_lexer": "ipython3",
      "version": "3.8.10"
    }
  },
  "nbformat": 4,
  "nbformat_minor": 0
}