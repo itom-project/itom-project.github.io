{
  "cells": [
    {
      "cell_type": "markdown",
      "metadata": {},
      "source": [
        "# Basic variables\n"
      ]
    },
    {
      "cell_type": "code",
      "execution_count": null,
      "metadata": {
        "collapsed": false
      },
      "outputs": [],
      "source": [
        "counter = 100  # An integer assignment\nmiles = 1000.0  # A floating point\nname = \"itom\"  # A string\ncomp = 1 + 1j * 5  # complex\n\nprint(counter)\nprint(miles)\nprint(name)\nprint(comp)"
      ]
    },
    {
      "cell_type": "markdown",
      "metadata": {},
      "source": [
        "Get type of variable\n\n"
      ]
    },
    {
      "cell_type": "code",
      "execution_count": null,
      "metadata": {
        "collapsed": false
      },
      "outputs": [],
      "source": [
        "print(type(counter))\nprint(type(miles))\nprint(type(name))\nprint(type(comp))"
      ]
    },
    {
      "cell_type": "markdown",
      "metadata": {},
      "source": [
        "List, Tuples, Dictionary\n\n"
      ]
    },
    {
      "cell_type": "code",
      "execution_count": null,
      "metadata": {
        "collapsed": false
      },
      "outputs": [],
      "source": [
        "listValues = [\"abcd\", 786, 2.23, \"john\", 70.2]  # appending, deleting possible\ntuplesValues = (\"abcd\", 786, 2.23, \"john\", 70.2)  # tuples cannot be changed\ntinydict = {\"name\": \"john\", \"code\": 6734, \"dept\": \"sales\"}"
      ]
    }
  ],
  "metadata": {
    "kernelspec": {
      "display_name": "Python 3",
      "language": "python",
      "name": "python3"
    },
    "language_info": {
      "codemirror_mode": {
        "name": "ipython",
        "version": 3
      },
      "file_extension": ".py",
      "mimetype": "text/x-python",
      "name": "python",
      "nbconvert_exporter": "python",
      "pygments_lexer": "ipython3",
      "version": "3.11.2"
    }
  },
  "nbformat": 4,
  "nbformat_minor": 0
}