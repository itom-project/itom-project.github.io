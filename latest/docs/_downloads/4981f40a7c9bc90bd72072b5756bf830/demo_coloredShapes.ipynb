{
  "cells": [
    {
      "cell_type": "markdown",
      "metadata": {},
      "source": [
        "# Colored shapes\n\nThis demo script shows how to set the line color of geometric shapes.\n\nPer default, the color of geometric shapes depend on the currently applied\ncolor map. Every color map has two additional inverse colors which should provide\na high contrast to other colors that appear within the color map.\n\nUsually, the line (and optional filling) of a geometric shape is drawn using the inverse color #1.\nIf it is allowed to change the size and / or position of a shape or to rotate the shape,\nthe pickable squares of a selected shape is drawn with the inverse color #2.\n\nWhile the behaviour of the latter (pickable squares) cannot be changed, the line color\nof shapes can also be set permanently for each shape. This is done by the 'color' property\nof the itom.shape object. If the color property is set to None, the automatic line color mode is selected,\nelse an object of type itom.rgba can be assigned.\n"
      ]
    },
    {
      "cell_type": "code",
      "execution_count": null,
      "metadata": {
        "collapsed": false
      },
      "outputs": [],
      "source": [
        "from itom import dataObject\nfrom itom import rgba\nfrom itom import shape\nfrom itom import plot\n\n\nimage = dataObject.zeros([200, 400], \"uint8\")\nimage[0:100, 0:200] = 128\nimage[100:, 200:] = 255\n# coordinates of shapes are always given in 'physical' scales\n# (considering scale and offset of the displayed object)\nimage.axisScales = (0.25, 0.25)\nimage.axisOffsets = (100, 200)\n\nrect1 = shape.createRectangle((10, 5), (40, 20))\n# change the color of the upper right rectangle to a permanent color (dark green)\nrect1.color = rgba(0, 128, 55)\nrect2 = shape.createRectangle(center=(0, 0), size=(40, 20))\nrect2.color = None  # automatic, color map dependent coloring (default)\n\ncircle = shape.createCircle(center=(-25, -12), radius=5)\ncircle.color = rgba(120, 0, 90)  # change the color of the circle to a permanent color (purple)\n\nellipse = shape.createEllipse(center=(-20, 0), size=(40, 5))\nellipse.color = None  # automatic, color map dependent coloring (default)\n\n[idx, handle] = plot(image, properties={\"title\": \"Color shapes demo\"})\nhandle[\"geometricShapes\"] = (rect1, rect2, circle, ellipse)"
      ]
    },
    {
      "cell_type": "markdown",
      "metadata": {},
      "source": [
        "<img src=\"file://../../_static/demoColoredShapes_1.png\" width=\"100%\">\n\n"
      ]
    }
  ],
  "metadata": {
    "kernelspec": {
      "display_name": "Python 3",
      "language": "python",
      "name": "python3"
    },
    "language_info": {
      "codemirror_mode": {
        "name": "ipython",
        "version": 3
      },
      "file_extension": ".py",
      "mimetype": "text/x-python",
      "name": "python",
      "nbconvert_exporter": "python",
      "pygments_lexer": "ipython3",
      "version": "3.11.2"
    }
  },
  "nbformat": 4,
  "nbformat_minor": 0
}