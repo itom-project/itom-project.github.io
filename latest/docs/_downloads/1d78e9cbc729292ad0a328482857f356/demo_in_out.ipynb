{
  "cells": [
    {
      "cell_type": "markdown",
      "metadata": {},
      "source": [
        "# Getting data in/out\n"
      ]
    },
    {
      "cell_type": "code",
      "execution_count": null,
      "metadata": {
        "collapsed": false
      },
      "outputs": [],
      "source": [
        "import pandas as pd\nimport numpy as np\n\n\ntimeStemps = pd.Series(np.random.randn(1000), index=pd.date_range(\"1/1/2000\", periods=1000))\ntimeStemps = timeStemps.cumsum()\ndataFrame = pd.DataFrame(np.random.randn(1000, 4), index=timeStemps.index, columns=[\"A\", \"B\", \"C\", \"D\"])\ndataFrame = dataFrame.cumsum()\n\ndataFrame.to_csv(\"foo.csv\")\npd.read_csv(\"foo.csv\")"
      ]
    },
    {
      "cell_type": "code",
      "execution_count": null,
      "metadata": {
        "collapsed": false
      },
      "outputs": [],
      "source": [
        "dataFrame.to_excel(\"foo.xlsx\", sheet_name=\"Sheet1\")\npd.read_excel(\"foo.xlsx\", \"Sheet1\", index_col=None, na_values=[\"NA\"])"
      ]
    }
  ],
  "metadata": {
    "kernelspec": {
      "display_name": "Python 3",
      "language": "python",
      "name": "python3"
    },
    "language_info": {
      "codemirror_mode": {
        "name": "ipython",
        "version": 3
      },
      "file_extension": ".py",
      "mimetype": "text/x-python",
      "name": "python",
      "nbconvert_exporter": "python",
      "pygments_lexer": "ipython3",
      "version": "3.11.2"
    }
  },
  "nbformat": 4,
  "nbformat_minor": 0
}