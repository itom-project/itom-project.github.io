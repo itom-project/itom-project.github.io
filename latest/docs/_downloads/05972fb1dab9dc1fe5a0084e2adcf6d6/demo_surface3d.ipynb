{
  "cells": [
    {
      "cell_type": "markdown",
      "metadata": {},
      "source": [
        "# Surface 3D\n"
      ]
    },
    {
      "cell_type": "code",
      "execution_count": null,
      "metadata": {
        "collapsed": false
      },
      "outputs": [],
      "source": [
        "from itom import dataObject\nimport matplotlib.pyplot as plt\nimport numpy as np\n\n\ndata = dataObject.randN([55, 56])\n[rows, cols] = data.shape\nX = np.arange(rows)\nY = np.arange(cols)\nXaxis3D, Yaxis3D = np.meshgrid(Y, X)\n\nfig = plt.figure()\nax = fig.add_subplot(111, projection=\"3d\")\nax.plot_surface(\n    Yaxis3D,\n    Xaxis3D,\n    data,\n    rstride=1,\n    cstride=1,\n    cmap=plt.cm.Spectral,\n    linewidth=0,\n    antialiased=False,\n)\nplt.show()"
      ]
    }
  ],
  "metadata": {
    "kernelspec": {
      "display_name": "Python 3",
      "language": "python",
      "name": "python3"
    },
    "language_info": {
      "codemirror_mode": {
        "name": "ipython",
        "version": 3
      },
      "file_extension": ".py",
      "mimetype": "text/x-python",
      "name": "python",
      "nbconvert_exporter": "python",
      "pygments_lexer": "ipython3",
      "version": "3.12.4"
    }
  },
  "nbformat": 4,
  "nbformat_minor": 0
}
