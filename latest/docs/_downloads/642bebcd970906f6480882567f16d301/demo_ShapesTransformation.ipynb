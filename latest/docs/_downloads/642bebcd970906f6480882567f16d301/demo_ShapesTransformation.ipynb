{
  "cells": [
    {
      "cell_type": "markdown",
      "metadata": {},
      "source": [
        "# Shape transformation\n\nThis demo shows how you can translate and rotate ``itom.shapes`` in the ``itom`` plot.\n"
      ]
    },
    {
      "cell_type": "code",
      "execution_count": null,
      "metadata": {
        "collapsed": false
      },
      "outputs": [],
      "source": [
        "from itom import dataObject\nfrom itom import plot\nfrom itom import shape\n\nd = dataObject.zeros([300, 300])\nd.axisOffsets = (150, 150)\n[i, h] = plot(d, properties={\"keepAspectRatio\": True})\n\nrect = shape(shape.Rectangle, (-30, -20), (30, 20))\n\nrect2 = rect.copy()\nrect2.translate([10, 20])\n\nrect3 = rect.copy()\nrect3.rotateDeg(30)\nrect3.translate([10, 20])\n\nrect4 = rect.copy()\nrect4.translate([10, 20])\nrect4.rotateDeg(30)\n\nh[\"geometricShapes\"] = (rect, rect2, rect3, rect4)"
      ]
    },
    {
      "cell_type": "markdown",
      "metadata": {},
      "source": [
        "<img src=\"file://../../_static/demoShapesTransformation_1.png\" width=\"100%\">\n\n"
      ]
    }
  ],
  "metadata": {
    "kernelspec": {
      "display_name": "Python 3",
      "language": "python",
      "name": "python3"
    },
    "language_info": {
      "codemirror_mode": {
        "name": "ipython",
        "version": 3
      },
      "file_extension": ".py",
      "mimetype": "text/x-python",
      "name": "python",
      "nbconvert_exporter": "python",
      "pygments_lexer": "ipython3",
      "version": "3.12.4"
    }
  },
  "nbformat": 4,
  "nbformat_minor": 0
}
