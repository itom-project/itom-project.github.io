{
  "cells": [
    {
      "cell_type": "code",
      "execution_count": null,
      "metadata": {
        "collapsed": false
      },
      "outputs": [],
      "source": [
        "%matplotlib inline"
      ]
    },
    {
      "cell_type": "markdown",
      "metadata": {},
      "source": [
        "# Interrupt\n"
      ]
    },
    {
      "cell_type": "code",
      "execution_count": null,
      "metadata": {
        "collapsed": false
      },
      "outputs": [],
      "source": [
        "from itom import ui\nimport time\n\ngui = ui(\"interruptDemo.ui\", ui.TYPEWINDOW)\n\n\ndef do():\n    gui.btnDo[\"enabled\"] = False\n    try:\n        # it is not possible to interrupt a simple sleep command\n        # therefore, it is put into a loop over shorter sleeps...\n        for i in range(0, 200):\n            time.sleep(0.1)\n    except KeyboardInterrupt:\n        print(\"the sleep loop has been interrupted.\")\n        gui.btnDo[\"enabled\"] = True\n        raise\n    gui.btnDo[\"enabled\"] = True\n\n\ngui.btnDo.connect(\"clicked()\", do)\ngui.btnInterrupt.invokeKeyboardInterrupt(\"clicked()\")\ngui.show()"
      ]
    }
  ],
  "metadata": {
    "kernelspec": {
      "display_name": "Python 3",
      "language": "python",
      "name": "python3"
    },
    "language_info": {
      "codemirror_mode": {
        "name": "ipython",
        "version": 3
      },
      "file_extension": ".py",
      "mimetype": "text/x-python",
      "name": "python",
      "nbconvert_exporter": "python",
      "pygments_lexer": "ipython3",
      "version": "3.8.10"
    }
  },
  "nbformat": 4,
  "nbformat_minor": 0
}