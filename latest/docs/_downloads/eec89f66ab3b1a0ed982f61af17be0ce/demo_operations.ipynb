{
  "cells": [
    {
      "cell_type": "markdown",
      "metadata": {},
      "source": [
        "# Basic operations\n\nArithmetic operations\n"
      ]
    },
    {
      "cell_type": "code",
      "execution_count": null,
      "metadata": {
        "collapsed": false
      },
      "outputs": [],
      "source": [
        "a = 21\nb = 10\nc = 0\n\nc = a + b\nprint(\"line 1 - value of c is \", c)\n\nc = a - b\nprint(\"line 2 - value of c is \", c)\n\nc = a * b\nprint(\"line 3 - value of c is \", c)\n\nc = a / b\nprint(\"line 4 - value of c is \", c)\n\nc = a % b\nprint(\"line 5 - value of c is \", c)\n\na = 2\nb = 3\nc = a**b\nprint(\"line 6 - value of c is \", c)\n\na = 10\nb = 5\nc = a // b\nprint(\"line 7 - value of c is \", c)"
      ]
    },
    {
      "cell_type": "markdown",
      "metadata": {},
      "source": [
        "Comparison operations\n\n"
      ]
    },
    {
      "cell_type": "code",
      "execution_count": null,
      "metadata": {
        "collapsed": false
      },
      "outputs": [],
      "source": [
        "a = 21\nb = 10\nc = 0\n\nif a == b:\n    print(\"line 1 - a is equal to b\")\nelse:\n    print(\"line 1 - a is not equal to b\")\n\nif a != b:\n    print(\"line 2 - a is not equal to b\")\nelse:\n    print(\"line 2 - a is equal to b\")\n\nif a != b:\n    print(\"line 3 - a is not equal to b\")\nelse:\n    print(\"line 3 - a is equal to b\")\n\nif a < b:\n    print(\"line 4 - a is less than b\")\nelse:\n    print(\"line 4 - a is not less than b\")\n\nif a > b:\n    print(\"line 5 - a is greater than b\")\nelse:\n    print(\"line 5 - a is not greater than b\")\n\na = 5\nb = 20\nif a <= b:\n    print(\"line 6 - a is either less than or equal to  b\")\nelse:\n    print(\"line 6 - a is neither less than nor equal to  b\")\n\nif b >= a:\n    print(\"line 7 - b is either greater than  or equal to b\")\nelse:\n    print(\"line 7 - b is neither greater than  nor equal to b\")"
      ]
    },
    {
      "cell_type": "markdown",
      "metadata": {},
      "source": [
        "Bitwise operations\n\n"
      ]
    },
    {
      "cell_type": "code",
      "execution_count": null,
      "metadata": {
        "collapsed": false
      },
      "outputs": [],
      "source": [
        "a = 60  # 60 = 0011 1100\nb = 13  # 13 = 0000 1101\nc = 0\n\nc = a & b\n# 12 = 0000 1100\nprint(\"line 1 - Value of c is \", c)\n\nc = a | b\n# 61 = 0011 1101\nprint(\"line 2 - Value of c is \", c)\n\nc = a ^ b\n# 49 = 0011 0001\nprint(\"line 3 - Value of c is \", c)\n\nc = ~a\n# -61 = 1100 0011\nprint(\"line 4 - Value of c is \", c)\n\nc = a << 2\n# 240 = 1111 0000\nprint(\"line 5 - Value of c is \", c)\n\nc = a >> 2\n# 15 = 0000 1111\nprint(\"line 6 - Value of c is \", c)"
      ]
    },
    {
      "cell_type": "markdown",
      "metadata": {},
      "source": [
        "Logical operations\n\n"
      ]
    },
    {
      "cell_type": "code",
      "execution_count": null,
      "metadata": {
        "collapsed": false
      },
      "outputs": [],
      "source": [
        "(a and b) is True\n(a or b) is True\nnot (a and b) is False"
      ]
    },
    {
      "cell_type": "markdown",
      "metadata": {},
      "source": [
        "Membership operations\n\n"
      ]
    },
    {
      "cell_type": "code",
      "execution_count": null,
      "metadata": {
        "collapsed": false
      },
      "outputs": [],
      "source": [
        "a = 10\nb = 20\nlist = [1, 2, 3, 4, 5]\n\nif a in list:\n    print(\"line 1 - a is available in the given list\")\nelse:\n    print(\"line 1 - a is not available in the given list\")\n\nif b not in list:\n    print(\"line 2 - b is not available in the given list\")\nelse:\n    print(\"line 2 - b is available in the given list\")\n\na = 2\nif a in list:\n    print(\"line 3 - a is available in the given list\")\nelse:\n    print(\"line 3 - a is not available in the given list\")"
      ]
    },
    {
      "cell_type": "markdown",
      "metadata": {},
      "source": [
        "Identify operations\n\n"
      ]
    },
    {
      "cell_type": "code",
      "execution_count": null,
      "metadata": {
        "collapsed": false
      },
      "outputs": [],
      "source": [
        "a = 20\nb = 20\n\nif a is b:\n    print(\"line 1 - a and b have same identity\")\nelse:\n    print(\"line 1 - a and b do not have same identity\")\n\nif id(a) == id(b):\n    print(\"line 2 - a and b have same identity\")\nelse:\n    print(\"line 2 - a and b do not have same identity\")\n\nb = 30\nif a is b:\n    print(\"line 3 - a and b have same identity\")\nelse:\n    print(\"line 3 - a and b do not have same identity\")\n\nif a is not b:\n    print(\"line 4 - a and b do not have same identity\")\nelse:\n    print(\"line 4 - a and b have same identity\")"
      ]
    },
    {
      "cell_type": "markdown",
      "metadata": {},
      "source": [
        "Operators Precedence\n\n"
      ]
    },
    {
      "cell_type": "code",
      "execution_count": null,
      "metadata": {
        "collapsed": false
      },
      "outputs": [],
      "source": [
        "a = 20\nb = 10\nc = 15\nd = 5\ne = 0\n\ne = (a + b) * c / d  # ( 30 * 15 ) / 5\nprint(\"value of (a + b) * c / d is \", e)\n\ne = ((a + b) * c) / d  # (30 * 15 ) / 5\nprint(\"value of ((a + b) * c) / d is \", e)\n\ne = (a + b) * (c / d)\n# (30) * (15/5)\nprint(\"value of (a + b) * (c / d) is \", e)\n\ne = a + (b * c) / d\n#  20 + (150/5)\nprint(\"value of a + (b * c) / d is \", e)"
      ]
    }
  ],
  "metadata": {
    "kernelspec": {
      "display_name": "Python 3",
      "language": "python",
      "name": "python3"
    },
    "language_info": {
      "codemirror_mode": {
        "name": "ipython",
        "version": 3
      },
      "file_extension": ".py",
      "mimetype": "text/x-python",
      "name": "python",
      "nbconvert_exporter": "python",
      "pygments_lexer": "ipython3",
      "version": "3.11.2"
    }
  },
  "nbformat": 4,
  "nbformat_minor": 0
}