{
  "cells": [
    {
      "cell_type": "markdown",
      "metadata": {},
      "source": [
        "# Camera widget\n"
      ]
    },
    {
      "cell_type": "code",
      "execution_count": null,
      "metadata": {
        "collapsed": false
      },
      "outputs": [],
      "source": [
        "from itom import dataIO\nfrom itom import ui\nfrom itom import dataObject\n\ncam = dataIO(\"DummyGrabber\")\n\nwin = ui(\"cameraWindow.ui\", ui.TYPEWINDOW, childOfMainWindow=True)\n\n\ndef integrationTime_changed():\n    if win.radioInt1[\"checked\"]:\n        cam.setParam(\"integration_time\", 0.005)\n    elif win.radioInt2[\"checked\"]:\n        cam.setParam(\"integration_time\", 0.010)\n    else:\n        cam.setParam(\"integration_time\", 0.060)\n\n\ndef autoGrabbing_changed(checked):\n    if checked:\n        cam.enableAutoGrabbing()\n    else:\n        cam.disableAutoGrabbing()\n\n\ndef snap():\n    d = dataObject()\n    cam.startDevice()\n    autoGrabbingStatus = cam.getAutoGrabbing()\n    cam.disableAutoGrabbing()\n    cam.acquire()\n    cam.getVal(d)\n    win.plot[\"source\"] = d\n    if autoGrabbingStatus:\n        cam.enableAutoGrabbing()\n    cam.stopDevice()\n\n\ndef live():\n    win.plot[\"camera\"] = cam\n\n\n# initialize all signal/slots\nwin.radioInt1.connect(\"clicked()\", integrationTime_changed)\nwin.radioInt2.connect(\"clicked()\", integrationTime_changed)\nwin.radioInt3.connect(\"clicked()\", integrationTime_changed)\n\nwin.btnSnap.connect(\"clicked()\", snap)\nwin.btnLive.connect(\"clicked()\", live)\n\nwin.checkAutoGrabbing.connect(\"clicked(bool)\", autoGrabbing_changed)\n\n# initialize gui elements\nwin.checkAutoGrabbing[\"checked\"] = cam.getAutoGrabbing()\nwin.radioInt1[\"checked\"] = True\n\nwin.show(0)"
      ]
    }
  ],
  "metadata": {
    "kernelspec": {
      "display_name": "Python 3",
      "language": "python",
      "name": "python3"
    },
    "language_info": {
      "codemirror_mode": {
        "name": "ipython",
        "version": 3
      },
      "file_extension": ".py",
      "mimetype": "text/x-python",
      "name": "python",
      "nbconvert_exporter": "python",
      "pygments_lexer": "ipython3",
      "version": "3.12.4"
    }
  },
  "nbformat": 4,
  "nbformat_minor": 0
}
