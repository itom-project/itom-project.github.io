{
  "cells": [
    {
      "cell_type": "markdown",
      "metadata": {},
      "source": [
        "# Events\n"
      ]
    },
    {
      "cell_type": "code",
      "execution_count": null,
      "metadata": {
        "collapsed": false
      },
      "outputs": [],
      "source": [
        "import matplotlib.pyplot as plt\nimport numpy as np\n\nfig, ax = plt.subplots()\nax.plot(np.random.rand(10))\n\n\ndef onclick(event):\n    print(\n        \"%s click: button=%d, x=%d, y=%d, xdata=%f, ydata=%f\"\n        % (\"double\" if event.dblclick else \"single\", event.button, event.x, event.y, event.xdata, event.ydata)\n    )\n\n\ndef onfigureenter(event):\n    if event.x and event.y:\n        print(\"onfigureenter: x=%f, y=%f, inaxes=%s\" % (event.x, event.y, str(event.inaxes)))\n    else:\n        print(\"onfigureenter: x=<None>, y=<None>, inaxes=%s\" % str(event.inaxes))\n\n\ncid = fig.canvas.mpl_connect(\"button_press_event\", onclick)\nfig.canvas.mpl_connect(\"figure_enter_event\", onfigureenter)"
      ]
    }
  ],
  "metadata": {
    "kernelspec": {
      "display_name": "Python 3",
      "language": "python",
      "name": "python3"
    },
    "language_info": {
      "codemirror_mode": {
        "name": "ipython",
        "version": 3
      },
      "file_extension": ".py",
      "mimetype": "text/x-python",
      "name": "python",
      "nbconvert_exporter": "python",
      "pygments_lexer": "ipython3",
      "version": "3.11.2"
    }
  },
  "nbformat": 4,
  "nbformat_minor": 0
}